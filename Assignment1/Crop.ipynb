{
 "cells": [
  {
   "cell_type": "code",
   "execution_count": 1,
   "metadata": {},
   "outputs": [],
   "source": [
    "import cv2\n",
    "img = cv2.imread(\"N1_0.jpg\")\n",
    "# crop_img = img[y:y+h, x:x+w]\n",
    "# cv2.imshow(\"cropped\", crop_img)\n",
    "# cv2.waitKey(0)"
   ]
  },
  {
   "cell_type": "code",
   "execution_count": 9,
   "metadata": {
    "scrolled": true
   },
   "outputs": [
    {
     "data": {
      "text/plain": [
       "array([[211, 210, 219],\n",
       "       [211, 210, 219],\n",
       "       [211, 210, 219],\n",
       "       ...,\n",
       "       [193, 194, 198],\n",
       "       [193, 194, 198],\n",
       "       [193, 194, 198]], dtype=uint8)"
      ]
     },
     "execution_count": 9,
     "metadata": {},
     "output_type": "execute_result"
    }
   ],
   "source": [
    "img[0]"
   ]
  },
  {
   "cell_type": "code",
   "execution_count": 3,
   "metadata": {
    "scrolled": true
   },
   "outputs": [
    {
     "name": "stdout",
     "output_type": "stream",
     "text": [
      "(400, 600, 3)\n"
     ]
    }
   ],
   "source": [
    "print img.shape"
   ]
  },
  {
   "cell_type": "code",
   "execution_count": 5,
   "metadata": {},
   "outputs": [],
   "source": [
    "r = 100.0 / img.shape[1]\n",
    "dim = (100, int(img.shape[0] * r))"
   ]
  },
  {
   "cell_type": "code",
   "execution_count": 6,
   "metadata": {},
   "outputs": [],
   "source": [
    "resized = cv2.resize(img, dim, interpolation = cv2.INTER_AREA)"
   ]
  },
  {
   "cell_type": "code",
   "execution_count": 8,
   "metadata": {},
   "outputs": [
    {
     "data": {
      "text/plain": [
       "array([[210, 209, 218],\n",
       "       [209, 208, 217],\n",
       "       [207, 206, 215],\n",
       "       [205, 205, 213],\n",
       "       [203, 203, 211],\n",
       "       [202, 201, 209],\n",
       "       [200, 199, 207],\n",
       "       [197, 197, 204],\n",
       "       [195, 195, 202],\n",
       "       [194, 193, 200],\n",
       "       [192, 192, 199],\n",
       "       [190, 190, 197],\n",
       "       [188, 189, 196],\n",
       "       [187, 188, 196],\n",
       "       [186, 188, 194],\n",
       "       [186, 188, 194],\n",
       "       [185, 188, 194],\n",
       "       [186, 188, 195],\n",
       "       [188, 190, 196],\n",
       "       [190, 192, 199],\n",
       "       [192, 195, 201],\n",
       "       [196, 198, 205],\n",
       "       [200, 202, 211],\n",
       "       [206, 208, 216],\n",
       "       [212, 214, 222],\n",
       "       [219, 219, 229],\n",
       "       [224, 223, 232],\n",
       "       [199, 197, 199],\n",
       "       [169, 169, 169],\n",
       "       [182, 181, 181],\n",
       "       [182, 181, 181],\n",
       "       [181, 181, 180],\n",
       "       [181, 181, 181],\n",
       "       [182, 182, 182],\n",
       "       [184, 184, 184],\n",
       "       [185, 186, 185],\n",
       "       [187, 188, 186],\n",
       "       [188, 188, 188],\n",
       "       [188, 189, 187],\n",
       "       [189, 189, 188],\n",
       "       [189, 190, 189],\n",
       "       [190, 190, 190],\n",
       "       [190, 191, 190],\n",
       "       [190, 191, 191],\n",
       "       [190, 192, 191],\n",
       "       [192, 193, 191],\n",
       "       [192, 193, 191],\n",
       "       [192, 193, 191],\n",
       "       [192, 193, 191],\n",
       "       [192, 193, 191],\n",
       "       [192, 193, 191],\n",
       "       [192, 193, 191],\n",
       "       [192, 193, 191],\n",
       "       [192, 193, 191],\n",
       "       [192, 193, 191],\n",
       "       [192, 193, 191],\n",
       "       [192, 193, 191],\n",
       "       [192, 193, 191],\n",
       "       [192, 193, 191],\n",
       "       [192, 193, 191],\n",
       "       [192, 193, 191],\n",
       "       [192, 193, 191],\n",
       "       [192, 193, 191],\n",
       "       [191, 191, 190],\n",
       "       [190, 191, 189],\n",
       "       [190, 190, 189],\n",
       "       [189, 189, 188],\n",
       "       [188, 188, 188],\n",
       "       [188, 187, 187],\n",
       "       [186, 185, 185],\n",
       "       [184, 183, 182],\n",
       "       [182, 180, 180],\n",
       "       [180, 179, 178],\n",
       "       [180, 178, 178],\n",
       "       [178, 176, 176],\n",
       "       [163, 163, 163],\n",
       "       [220, 219, 225],\n",
       "       [223, 223, 232],\n",
       "       [218, 220, 229],\n",
       "       [213, 215, 223],\n",
       "       [208, 210, 218],\n",
       "       [203, 205, 212],\n",
       "       [198, 201, 207],\n",
       "       [193, 196, 202],\n",
       "       [190, 192, 198],\n",
       "       [188, 190, 195],\n",
       "       [186, 187, 192],\n",
       "       [184, 185, 190],\n",
       "       [183, 184, 189],\n",
       "       [183, 183, 188],\n",
       "       [183, 183, 188],\n",
       "       [183, 183, 189],\n",
       "       [183, 184, 188],\n",
       "       [184, 185, 190],\n",
       "       [185, 185, 191],\n",
       "       [187, 187, 192],\n",
       "       [188, 189, 194],\n",
       "       [190, 190, 195],\n",
       "       [191, 192, 197],\n",
       "       [193, 194, 199]], dtype=uint8)"
      ]
     },
     "execution_count": 8,
     "metadata": {},
     "output_type": "execute_result"
    }
   ],
   "source": [
    "resized[0]"
   ]
  },
  {
   "cell_type": "code",
   "execution_count": 6,
   "metadata": {},
   "outputs": [
    {
     "data": {
      "text/plain": [
       "65505"
      ]
     },
     "execution_count": 6,
     "metadata": {},
     "output_type": "execute_result"
    }
   ],
   "source": [
    "cv2.imshow(\"a\", img)\n",
    "cv2.waitKey(0)"
   ]
  },
  {
   "cell_type": "code",
   "execution_count": 4,
   "metadata": {},
   "outputs": [],
   "source": [
    "cv2.destroyAllWindows()"
   ]
  },
  {
   "cell_type": "code",
   "execution_count": 7,
   "metadata": {},
   "outputs": [],
   "source": [
    "import cv2\n",
    "img = cv2.imread(\"N1_0.jpg\", 0)\n",
    "cv2.imshow(\"image\", img)\n",
    "k=cv2.waitKey(0)\n",
    "if k == 27:\n",
    "    cv2.destroyAllWindows()"
   ]
  },
  {
   "cell_type": "code",
   "execution_count": 11,
   "metadata": {},
   "outputs": [
    {
     "data": {
      "text/plain": [
       "600"
      ]
     },
     "execution_count": 11,
     "metadata": {},
     "output_type": "execute_result"
    }
   ],
   "source": [
    "len(img[0])"
   ]
  },
  {
   "cell_type": "code",
   "execution_count": null,
   "metadata": {},
   "outputs": [],
   "source": []
  }
 ],
 "metadata": {
  "kernelspec": {
   "display_name": "Python 2",
   "language": "python",
   "name": "python2"
  },
  "language_info": {
   "codemirror_mode": {
    "name": "ipython",
    "version": 2
   },
   "file_extension": ".py",
   "mimetype": "text/x-python",
   "name": "python",
   "nbconvert_exporter": "python",
   "pygments_lexer": "ipython2",
   "version": "2.7.12"
  }
 },
 "nbformat": 4,
 "nbformat_minor": 2
}
