{
 "cells": [
  {
   "cell_type": "code",
   "execution_count": 7,
   "metadata": {},
   "outputs": [],
   "source": [
    "from PIL import Image\n",
    "import os\n",
    "\n",
    "size = 300, 200\n",
    "files = os.listdir('sample_test/')\n",
    "for f in files:\n",
    "    im = Image.open(\"sample_test/\" + f)\n",
    "    im_resized = im.resize(size, Image.ANTIALIAS)\n",
    "    im_resized.save(\"resized/\" + f.split('.')[0] + \".png\", \"PNG\")\n"
   ]
  },
  {
   "cell_type": "code",
   "execution_count": 18,
   "metadata": {},
   "outputs": [],
   "source": [
    "size = 300, 200\n",
    "files = os.listdir('sample_test/')\n",
    "for f in files:\n",
    "    im = Image.open(\"sample_test/\" + f)\n",
    "    im_resized = im.resize(size, Image.ANTIALIAS)\n",
    "    im_resized.save(\"resized/\" + f.split('.')[0] + \".jpg\", \"JPEG\")"
   ]
  },
  {
   "cell_type": "code",
   "execution_count": null,
   "metadata": {},
   "outputs": [],
   "source": []
  }
 ],
 "metadata": {
  "kernelspec": {
   "display_name": "Python 3",
   "language": "python",
   "name": "python3"
  },
  "language_info": {
   "codemirror_mode": {
    "name": "ipython",
    "version": 3
   },
   "file_extension": ".py",
   "mimetype": "text/x-python",
   "name": "python",
   "nbconvert_exporter": "python",
   "pygments_lexer": "ipython3",
   "version": "3.5.2"
  }
 },
 "nbformat": 4,
 "nbformat_minor": 2
}
