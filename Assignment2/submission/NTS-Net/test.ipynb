{
 "cells": [
  {
   "cell_type": "code",
   "execution_count": 15,
   "metadata": {
    "scrolled": true
   },
   "outputs": [],
   "source": [
    "import os\n",
    "from torch.autograd import Variable\n",
    "import torch.utils.data\n",
    "from torch.nn import DataParallel\n",
    "from config import BATCH_SIZE, PROPOSAL_NUM, test_model\n",
    "from core import model, dataset\n",
    "# from core import utils\n",
    "\n",
    "os.environ['CUDA_VISIBLE_DEVICES'] = '0,1,2,3'\n",
    "if not test_model:\n",
    "    raise NameError('please set the test_model file to choose the checkpoint!')"
   ]
  },
  {
   "cell_type": "code",
   "execution_count": 16,
   "metadata": {},
   "outputs": [],
   "source": [
    "BATCH_SIZE = 16"
   ]
  },
  {
   "cell_type": "code",
   "execution_count": 17,
   "metadata": {},
   "outputs": [],
   "source": [
    "data_dir = './birds'\n",
    "# read dataset\n",
    "\n",
    "testset = dataset.Predict_data(root=data_dir, data_len=None)\n",
    "testloader = torch.utils.data.DataLoader(testset, batch_size=BATCH_SIZE,\n",
    "                                         shuffle=False, num_workers=8, drop_last=False)"
   ]
  },
  {
   "cell_type": "code",
   "execution_count": 18,
   "metadata": {},
   "outputs": [],
   "source": [
    "test_model = 'models/birds'"
   ]
  },
  {
   "cell_type": "code",
   "execution_count": 19,
   "metadata": {},
   "outputs": [],
   "source": [
    "# define model\n",
    "net = model.attention_net(topN=PROPOSAL_NUM)\n",
    "ckpt = torch.load(test_model)\n",
    "net.load_state_dict(ckpt['net_state_dict'])\n",
    "net = net.cuda()\n",
    "# net = DataParallel(net)\n",
    "creterion = torch.nn.CrossEntropyLoss()"
   ]
  },
  {
   "cell_type": "code",
   "execution_count": 20,
   "metadata": {
    "scrolled": false
   },
   "outputs": [
    {
     "name": "stdout",
     "output_type": "stream",
     "text": [
      "tensor([6, 6, 6, 6, 6, 6, 6, 6, 6, 6, 6, 6, 6, 6, 6, 6])\n",
      "tensor([ 8,  1,  1,  7,  5,  5,  3,  6,  6,  2, 10,  6,  4,  1,  0,  4],\n",
      "       device='cuda:0')\n",
      "tensor([6, 7, 7, 7, 7, 7, 7, 7, 7, 7, 7, 7, 7, 7, 7, 7])\n",
      "tensor([ 6,  7,  7,  1,  1,  7,  8,  7,  5,  8,  8, 10,  2,  3, 10,  2],\n",
      "       device='cuda:0')\n",
      "tensor([7, 7, 7, 8, 8, 8, 8, 8, 8, 8, 8, 8, 8, 8, 8, 8])\n",
      "tensor([ 7,  7,  7, 10,  3,  8,  8, 10,  8,  8,  9,  8,  8,  8,  8,  6],\n",
      "       device='cuda:0')\n",
      "tensor([8, 8, 8, 8, 8, 8, 8, 5, 5, 5, 5, 5, 5, 5, 5, 5])\n",
      "tensor([10,  8,  8,  8,  8,  8,  8,  5,  5,  5,  5,  4,  5,  7,  2,  5],\n",
      "       device='cuda:0')\n",
      "tensor([5, 5, 5, 5, 5, 5, 5, 5, 5, 5, 5, 5, 5, 5, 5, 5])\n",
      "tensor([ 9,  6, 10,  5,  9,  0,  7,  9,  8,  0,  8,  7,  0,  4,  4,  7],\n",
      "       device='cuda:0')\n",
      "tensor([3, 3, 3, 3, 3, 3, 3, 3, 3, 3, 3, 3, 3, 3, 3, 1])\n",
      "tensor([ 8,  8,  3, 10,  3,  3,  3,  8,  5,  6,  8,  5,  3,  0,  9,  1],\n",
      "       device='cuda:0')\n",
      "tensor([ 1,  1,  1,  1,  1,  1,  1,  1,  1,  1,  1, 10, 10, 10, 10, 10])\n",
      "tensor([ 8,  7,  8,  1,  4,  6,  1,  7,  4,  6,  8, 10, 10, 10, 10, 10],\n",
      "       device='cuda:0')\n",
      "tensor([10, 10, 10, 10, 10, 10, 10, 10, 10, 10, 10, 10, 10, 10, 10, 10])\n",
      "tensor([ 7, 10,  9,  4,  6,  4,  0,  2,  1,  6,  3,  4,  8, 10,  5,  7],\n",
      "       device='cuda:0')\n",
      "tensor([10, 10, 10, 10, 10,  0,  0,  0,  0,  0,  0,  0,  0,  0,  0,  0])\n",
      "tensor([10, 10, 10, 10, 10,  0,  0,  0,  0,  1,  0,  3,  4,  5,  0,  7],\n",
      "       device='cuda:0')\n",
      "tensor([0, 0, 0, 0, 0, 0, 0, 0, 0, 0, 0, 0, 4, 4, 4, 4])\n",
      "tensor([0, 0, 0, 7, 8, 8, 5, 3, 8, 3, 8, 8, 4, 4, 5, 4], device='cuda:0')\n",
      "tensor([4, 4, 4, 4, 4, 4, 4, 4, 4, 4, 2, 2, 2, 2, 2, 2])\n",
      "tensor([ 4,  5,  5,  4,  4,  4, 10,  7,  3,  4,  8,  2,  2,  2,  2,  2],\n",
      "       device='cuda:0')\n",
      "tensor([2, 2, 2, 2, 2, 2, 2, 2, 2, 2, 2, 2, 9, 9, 9, 9])\n",
      "tensor([ 6,  7,  4,  2,  7, 10,  2,  2,  2,  5,  4, 10,  8,  9,  8,  9],\n",
      "       device='cuda:0')\n",
      "tensor([9, 9, 9, 9, 9, 9, 9, 9, 9, 9, 9, 9, 9, 9, 9, 9])\n",
      "tensor([10, 10,  9,  8,  3,  5,  2,  9,  9,  6,  3,  7,  4,  0,  9,  5],\n",
      "       device='cuda:0')\n",
      "tensor([9, 9, 9, 9, 9])\n",
      "tensor([6, 9, 8, 4, 5], device='cuda:0')\n",
      "test set loss: 2.370 and test set acc: 0.399 total sample: 213\n",
      "finishing testing\n"
     ]
    }
   ],
   "source": [
    "test_loss = 0\n",
    "test_correct = 0\n",
    "total = 0\n",
    "for i, data in enumerate(testloader):\n",
    "#     if i > 0:\n",
    "#         break\n",
    "    with torch.no_grad():\n",
    "        img, label = data[0].cuda(), data[1].cuda()\n",
    "        print(data[1])\n",
    "        batch_size = img.size(0)\n",
    "        _, concat_logits, _, _, _ = net(img)\n",
    "#         print (concat_logits)\n",
    "        # calculate loss\n",
    "        concat_loss = creterion(concat_logits, label)\n",
    "        # calculate accuracy\n",
    "        _, concat_predict = torch.max(concat_logits, 1)\n",
    "        print (concat_predict.data)\n",
    "        total += batch_size\n",
    "        test_correct += torch.sum(concat_predict.data == label.data)\n",
    "        test_loss += concat_loss.item() * batch_size\n",
    "#         progress_bar(i, len(testloader), 'eval on test set')\n",
    "\n",
    "test_acc = float(test_correct) / total\n",
    "test_loss = test_loss / total\n",
    "print('test set loss: {:.3f} and test set acc: {:.3f} total sample: {}'.format(test_loss, test_acc, total))\n",
    "\n",
    "print('finishing testing')"
   ]
  },
  {
   "cell_type": "code",
   "execution_count": 8,
   "metadata": {},
   "outputs": [],
   "source": [
    "# testset.__getitem__(index=0)"
   ]
  },
  {
   "cell_type": "code",
   "execution_count": 57,
   "metadata": {},
   "outputs": [
    {
     "data": {
      "text/plain": [
       "3"
      ]
     },
     "execution_count": 57,
     "metadata": {},
     "output_type": "execute_result"
    }
   ],
   "source": [
    "testset.__len__()"
   ]
  },
  {
   "cell_type": "code",
   "execution_count": null,
   "metadata": {},
   "outputs": [],
   "source": []
  }
 ],
 "metadata": {
  "kernelspec": {
   "display_name": "Python 3",
   "language": "python",
   "name": "python3"
  },
  "language_info": {
   "codemirror_mode": {
    "name": "ipython",
    "version": 3
   },
   "file_extension": ".py",
   "mimetype": "text/x-python",
   "name": "python",
   "nbconvert_exporter": "python",
   "pygments_lexer": "ipython3",
   "version": "3.5.2"
  }
 },
 "nbformat": 4,
 "nbformat_minor": 2
}
